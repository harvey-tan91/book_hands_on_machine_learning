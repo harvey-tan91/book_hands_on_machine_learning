{
 "cells": [
  {
   "cell_type": "code",
   "execution_count": 2,
   "metadata": {},
   "outputs": [
    {
     "output_type": "execute_result",
     "data": {
      "text/plain": "dict_keys(['data', 'target', 'feature_names', 'DESCR', 'details', 'categories', 'url'])"
     },
     "metadata": {},
     "execution_count": 2
    }
   ],
   "source": [
    "from sklearn.datasets import fetch_openml\n",
    "mnist = fetch_openml(\"mnist_784\", version=1) # this fetch the MNIST dataset from SciKit-learn\n",
    "\n",
    "mnist.keys()\n",
    "\n",
    "# datasets loaded by SL generally have a similar dictionary structure as follows : \n",
    "## a DESCR key describing the dataset\n",
    "## a data key containing an array with one row per instance and one column per feature\n",
    "## a target key containing an array with the labels"
   ]
  },
  {
   "cell_type": "code",
   "execution_count": 3,
   "metadata": {},
   "outputs": [],
   "source": [
    "X = mnist[\"data\"]   # this contains the independent variables / features\n",
    "y = mnist[\"target\"] # this contain the solution/labels"
   ]
  },
  {
   "cell_type": "code",
   "execution_count": 4,
   "metadata": {},
   "outputs": [
    {
     "output_type": "execute_result",
     "data": {
      "text/plain": "(70000, 784)"
     },
     "metadata": {},
     "execution_count": 4
    }
   ],
   "source": [
    "X.shape # the shape method provide the dimension of the matrix, i.e. the number of row and column items \n",
    "\n",
    "# there are 70k images and each image has 784 features \n",
    "# each image has 28*28 pixels (784)\n",
    "# each feature represent one pixel's intensity from 0 (white) to 255 (black)"
   ]
  },
  {
   "cell_type": "code",
   "execution_count": 5,
   "metadata": {},
   "outputs": [
    {
     "output_type": "display_data",
     "data": {
      "text/plain": "<Figure size 640x480 with 1 Axes>"
     },
     "metadata": {}
    }
   ],
   "source": [
    "import matplotlib as mpl \n",
    "import matplotlib.pyplot as plt\n",
    "\n",
    "some_digit = X[0] # assign the first item in the data to the variable \"some_digit\"\n",
    "some_digit_image = some_digit.reshape(28,28) # Reshape the instance's feature vector to a 28*28 array\n",
    "\n",
    "plt.imshow(some_digit_image, cmap = \"binary\")\n",
    "plt.axis(\"off\")\n",
    "plt.show()"
   ]
  },
  {
   "cell_type": "code",
   "execution_count": 6,
   "metadata": {},
   "outputs": [
    {
     "output_type": "execute_result",
     "data": {
      "text/plain": "'5'"
     },
     "metadata": {},
     "execution_count": 6
    }
   ],
   "source": [
    "y[0] # this display the first item in the label variable\n",
    "# noticed that the label is a string"
   ]
  },
  {
   "cell_type": "code",
   "execution_count": 7,
   "metadata": {},
   "outputs": [],
   "source": [
    "# most ML algorithnms expect numbers so lets cast y (the solution/labels) to integer \n",
    "import numpy as np\n",
    "y = y.astype(np.uint8)"
   ]
  },
  {
   "cell_type": "markdown",
   "metadata": {},
   "source": [
    "#  Creating the training and test datasets"
   ]
  },
  {
   "cell_type": "code",
   "execution_count": 8,
   "metadata": {},
   "outputs": [],
   "source": [
    "# note that MNIST dataset is already shuffled and the dataset is already split into a training and test set (60k training and 10k test)\n",
    "# a shuffled dataset ensures that all cross-validation folds will be similar\n",
    "\n",
    "X_train = X[:60000] # this assign the first 60k items to the variable for training\n",
    "X_test = X[60000:] # this assign 60k to 70k items to the variable for testing\n",
    "\n",
    "y_train = y[:60000] # this assign the first 60k labels to the variable for training\n",
    "y_test = y[60000:] # this assign 60k to 70k lables to the variable for testing"
   ]
  },
  {
   "cell_type": "markdown",
   "metadata": {},
   "source": [
    "# Training a Binary Classifer using a 5-detector"
   ]
  },
  {
   "cell_type": "code",
   "execution_count": 9,
   "metadata": {},
   "outputs": [],
   "source": [
    "# lets train a 5-detector binary classifer, where it detect 5s and non-5s\n",
    "\n",
    "# creation of the training and test for the target vectors as follows : \n",
    "y_train_5 = (y_train == 5) # this return a single column displaying True for 5 and False for non-5\n",
    "y_test_5 = (y_test == 5)"
   ]
  },
  {
   "cell_type": "code",
   "execution_count": 10,
   "metadata": {},
   "outputs": [
    {
     "output_type": "execute_result",
     "data": {
      "text/plain": "SGDClassifier(alpha=0.0001, average=False, class_weight=None,\n              early_stopping=False, epsilon=0.1, eta0=0.0, fit_intercept=True,\n              l1_ratio=0.15, learning_rate='optimal', loss='hinge',\n              max_iter=1000, n_iter_no_change=5, n_jobs=None, penalty='l2',\n              power_t=0.5, random_state=42, shuffle=True, tol=0.001,\n              validation_fraction=0.1, verbose=0, warm_start=False)"
     },
     "metadata": {},
     "execution_count": 10
    }
   ],
   "source": [
    "# the classifier that we will be using is called the Stochastic Gradient Descent (SGD)\n",
    "# SGD can handle very large datasets efficiently as it deals with training instances independently, one at a time\n",
    "# which also makes SGD well suited for online learning\n",
    "\n",
    "# SGD Classifier is a linear classifier with SGD (Stohastic Gradient Descent - SGD) training \n",
    "\n",
    "from sklearn.linear_model import SGDClassifier\n",
    "sgd_clf = SGDClassifier(random_state = 42)\n",
    "sgd_clf.fit(X_train, y_train_5) # we are fitting/training the model with this line of code\n",
    "\n",
    "# note that we are training the model with the whole training set along with the solution vector that display True for 5s"
   ]
  },
  {
   "cell_type": "code",
   "execution_count": 11,
   "metadata": {},
   "outputs": [
    {
     "output_type": "execute_result",
     "data": {
      "text/plain": "array([ True])"
     },
     "metadata": {},
     "execution_count": 11
    }
   ],
   "source": [
    "sgd_clf.predict([some_digit]) # remember some digit is a 5\n",
    "# the classifier correctly guess that the image represent a 5"
   ]
  },
  {
   "cell_type": "markdown",
   "metadata": {},
   "source": [
    "# Evaluating a classifier is trickier than evaluating a regressor"
   ]
  },
  {
   "cell_type": "code",
   "execution_count": 12,
   "metadata": {},
   "outputs": [],
   "source": [
    "from sklearn.model_selection import cross_val_score\n",
    "scores = cross_val_score(sgd_clf, X_train, y_train_5, cv = 3, scoring = \"accuracy\")\n",
    "# in this training instance, we are splitting the training dataset into 3 folds\n",
    "# Cross-validation is a resampling procedure used to evaluate machine learning models on a limited data sample.\n",
    "\n",
    "# for more information on cv : < https://machinelearningmastery.com/k-fold-cross-validation/ > "
   ]
  },
  {
   "cell_type": "code",
   "execution_count": 13,
   "metadata": {},
   "outputs": [
    {
     "output_type": "stream",
     "name": "stdout",
     "text": "0.9570333333333334\n"
    }
   ],
   "source": [
    "import numpy as np\n",
    "print(np.mean(scores)) "
   ]
  },
  {
   "cell_type": "code",
   "execution_count": 14,
   "metadata": {},
   "outputs": [],
   "source": [
    "# the average accuracy is 95.7%. This can be misleading. See below for a classifier that classifies every single image in the non-5 class"
   ]
  },
  {
   "cell_type": "code",
   "execution_count": 15,
   "metadata": {},
   "outputs": [],
   "source": [
    "from sklearn.base import BaseEstimator\n",
    "\n",
    "class Never5Classifier(BaseEstimator) : \n",
    "    def fit(self, X, y = None): \n",
    "        pass\n",
    "    def predict(self, X): \n",
    "        return np.zeros((len(X),1), dtype = bool)"
   ]
  },
  {
   "cell_type": "code",
   "execution_count": 16,
   "metadata": {},
   "outputs": [],
   "source": [
    "never_5_clf = Never5Classifier()\n",
    "x = cross_val_score(never_5_clf, X_train, y_train_5, cv = 3, scoring = \"accuracy\")"
   ]
  },
  {
   "cell_type": "code",
   "execution_count": 17,
   "metadata": {},
   "outputs": [
    {
     "output_type": "stream",
     "name": "stdout",
     "text": "0.90965\n"
    }
   ],
   "source": [
    "print(np.mean(x))\n",
    "# the average accuracy is 90%\n",
    "# Since only 10% of the dataset consist of images of 5, this implies that about 90% of the dataset consist of non-5 images \n",
    "# therefore the probability of guessing a non-5 image, is approx 90%"
   ]
  },
  {
   "cell_type": "code",
   "execution_count": 18,
   "metadata": {},
   "outputs": [],
   "source": [
    "# this is why accuracy is generally not a preferred preformance measure for classifier especially when it comes to dealing with skewed dataset when certain classes are much more frequent than others\n",
    "\n",
    "# classification accuracy is the total number of correct predictions divided by the total number of predictions made for a dataset.\n",
    "# as a performance measure, accuracy is inappropriate for imbalanced classification problems."
   ]
  },
  {
   "cell_type": "markdown",
   "metadata": {},
   "source": [
    "# Confusion Matrix"
   ]
  },
  {
   "cell_type": "code",
   "execution_count": 19,
   "metadata": {},
   "outputs": [],
   "source": [
    "# A better way to evaluate the performance of a classifier is by looking at the confusion matrix \n",
    "# the idea is to count the number of times, instances of class A are misclassified as class B \n",
    "# for example, you want to know the number of times a 3 is misclassified as a 5, i.e. a false positive instance \n",
    "\n",
    "# to compute the confusion matrix, you first need a set of prediction so that they can be compared ao the actual targets"
   ]
  },
  {
   "cell_type": "code",
   "execution_count": 20,
   "metadata": {},
   "outputs": [],
   "source": [
    "# cross_val_score is similar to the cross_val_predict \n",
    "# except that cross_val_predict performs K-fold cross-validation and returns the predictions made on each test fold rather than the evaluation scores \n",
    "# this means that you get a clean prediction for each instances in training set \n",
    "# \"clean\" meaning that the prediction is made by a model that never saw the data during training\n",
    "\n",
    "# note that we are still evaluating the 5-estimator\n",
    "\n",
    "from sklearn.model_selection import cross_val_predict\n",
    "y_train_predict = cross_val_predict(sgd_clf, X_train, y_train_5, cv = 3)"
   ]
  },
  {
   "cell_type": "code",
   "execution_count": 21,
   "metadata": {},
   "outputs": [
    {
     "output_type": "execute_result",
     "data": {
      "text/plain": "array([[53892,   687],\n       [ 1891,  3530]], dtype=int64)"
     },
     "metadata": {},
     "execution_count": 21
    }
   ],
   "source": [
    "# we then pass the predicted class into the target classes\n",
    "\n",
    "from sklearn.metrics import confusion_matrix\n",
    "confusion_matrix(y_train_5, y_train_predict)\n",
    "\n",
    "# each row in a confusion matrix represent an actual class while each column represent a predicted class\n",
    "\n",
    "# the first row consider non-5 (negative class), \n",
    "#### and 53,892 were correctly classified as non5, and they are called TRUE NEGATIVES\n",
    "#### 687 were misclassified as 5, and the are called FALSE POSITIVES\n",
    "\n",
    "# the second row in a confusion matrix consider 5s (positive class),\n",
    "#### and 1891 were misclassified as non-5s, and they are called FALSE NEGATIVE \n",
    "#### 3530 were correctly classified as 5, and there are called TRUE POSITIVES\n",
    "\n",
    "# refer to page 91"
   ]
  },
  {
   "cell_type": "code",
   "execution_count": 22,
   "metadata": {},
   "outputs": [
    {
     "output_type": "execute_result",
     "data": {
      "text/plain": "array([[54579,     0],\n       [    0,  5421]], dtype=int64)"
     },
     "metadata": {},
     "execution_count": 22
    }
   ],
   "source": [
    "# a perfect classifier would only have contain TRUE POSITIVE and TRUE NEGATIVE \n",
    "\n",
    "y_train_perfect_prediction = y_train_5 # a single vector displaying TRUE for 5s\n",
    "confusion_matrix(y_train_5, y_train_perfect_prediction)"
   ]
  },
  {
   "cell_type": "markdown",
   "metadata": {},
   "source": [
    "# Precision of the classifier - PRECISION & RECALL"
   ]
  },
  {
   "cell_type": "code",
   "execution_count": 23,
   "metadata": {},
   "outputs": [],
   "source": [
    "# an alternative method of looking at the classifier's prediction is to look at the precision and recall of the positive prediction\n",
    "\n",
    "# precision is a metric that quantifies the number of correct positive predictions made\n",
    "# recall is a metric that quantifies the number of correct positive predictions made out of all positive predictions that could have been made.\n",
    "\n",
    "# Precision = TP / (TP + FP)\n",
    "# Precision = # of TRUE POSITIVE / (# of TRUE POSITIVE + # of FALSE POSITIVE)\n",
    "\n",
    "# we can have a perfect precision where we make one single positive prediction and ensure that it is correct (precision = 1/1 = 100%)\n",
    "# it is not useful since the classifer would ignore all but one positive instance\n",
    "\n",
    "# hence precision is typically used along with another metric named \"recall\"\n",
    "# recall also called sensitivity/true positive rate (TPR), is the ratio of TRUE POSITIVE instances that are correctly detected by the classifier \n",
    "\n",
    "# Recall = TP / (TP + FN)\n",
    "# Recall = # of TRUE POSITIVE / (# OF TRUE POSITIVE + # OF FALSE NEGATIVE)"
   ]
  },
  {
   "cell_type": "code",
   "execution_count": 24,
   "metadata": {},
   "outputs": [],
   "source": [
    "from sklearn.metrics import precision_score, recall_score\n",
    "\n",
    "pre_score = precision_score(y_train_5,y_train_predict)\n",
    "recl_score = recall_score(y_train_5,y_train_predict)"
   ]
  },
  {
   "cell_type": "code",
   "execution_count": 25,
   "metadata": {},
   "outputs": [
    {
     "output_type": "stream",
     "name": "stdout",
     "text": "0.8370879772350012\n0.6511713705958311\n"
    }
   ],
   "source": [
    "print(pre_score) # when the 5-detector sees an image and claim the image to be a 5, it is 83% correct of the time\n",
    "print(recl_score) # out of all the 5s, it only detect 65%"
   ]
  },
  {
   "cell_type": "code",
   "execution_count": 26,
   "metadata": {},
   "outputs": [
    {
     "output_type": "execute_result",
     "data": {
      "text/plain": "0.7325171197343846"
     },
     "metadata": {},
     "execution_count": 26
    }
   ],
   "source": [
    "# if we are comparing between two classifiers, it is better combine precision and recall into a single metric , called the F score\n",
    "# F1 score is the harmonic mean of precision and recall \n",
    "# regular mean treats all values equally whereas harmonic mean give more weight to low values\n",
    "# therefore, a classifier will get a high F-score only when both the precision and recall score are high\n",
    "\n",
    "from sklearn.metrics import f1_score\n",
    "f1_score(y_train_5,y_train_predict)"
   ]
  },
  {
   "cell_type": "code",
   "execution_count": 27,
   "metadata": {},
   "outputs": [],
   "source": [
    "# F1 score favors classifier that have similar precision and recall\n",
    "\n",
    "# however, in reality, you may only care about precision and not recall, and vice versa\n",
    "# for example, suppose we have a classifier to detect videos that are safe for kids\n",
    "### you will want classifier with a high precision rate (keep only safe videos) that also rejects many good video, i.e. low recall rate\n",
    "### a classifier with a high recall rate implies that a lower precision which in turn imply that a few really bad videos shows up in the product lineup\n",
    "\n",
    "# conversely, suppose we have a classifier to detect shoplifters\n",
    "### you will want high recall rate and low precision rate will be fine\n",
    "### high recall means that out of all the shoplifting cases, almost all will be detected \n",
    "### high recall imply low precision which means that there will be false alarms \n",
    "\n",
    "# there is a precision/recall tradeoff. in other words, you cannot have it both ways\n",
    "# high recall imply low precision and vice versa"
   ]
  },
  {
   "cell_type": "markdown",
   "metadata": {},
   "source": [
    "# Precision/Recall Tradeoff"
   ]
  },
  {
   "cell_type": "code",
   "execution_count": 28,
   "metadata": {},
   "outputs": [],
   "source": [
    "# let's look at how SGDClassifier makes its classification decision\n",
    "# for each instance, the SGDClassifier compute a score based on a decision function \n",
    "# if the score is higher than a threshold, it will assign the instance to the positive class, otherwise it will assign it to the negative class\n",
    "# increasing threshold will increase precision and reduces recall\n",
    "# likewise, decreasing threshold will decrease precision and increase recall"
   ]
  },
  {
   "cell_type": "code",
   "execution_count": 29,
   "metadata": {},
   "outputs": [
    {
     "output_type": "stream",
     "name": "stdout",
     "text": "[2164.22030239]\n"
    }
   ],
   "source": [
    "# SL allows you to have access to the decision score that it uses to make prediction\n",
    "\n",
    "y_score = sgd_clf.decision_function([some_digit]) # this return the decision score for each instance # in this example, we return the decision score for some_digit variable for the 5-classifier\n",
    "print(y_score)"
   ]
  },
  {
   "cell_type": "code",
   "execution_count": 30,
   "metadata": {},
   "outputs": [
    {
     "output_type": "stream",
     "name": "stdout",
     "text": "[ True]\n"
    }
   ],
   "source": [
    "# note that the SGDCLassifier uses a thresohold of 0 \n",
    "sgd_threshold = 0 \n",
    "y_some_digit_pred = (y_score > sgd_threshold)\n",
    "print(y_some_digit_pred)"
   ]
  },
  {
   "cell_type": "code",
   "execution_count": 31,
   "metadata": {},
   "outputs": [
    {
     "output_type": "stream",
     "name": "stdout",
     "text": "[False]\n"
    }
   ],
   "source": [
    "# what happens when we raise the threshold to say, 8000\n",
    "sgd_threshold_new = 8000\n",
    "print(y_score > sgd_threshold_new)\n",
    "\n",
    "# the classifier did not managed to detect the 5 \n",
    "# this confirms that increasing threshold reduces recall"
   ]
  },
  {
   "cell_type": "markdown",
   "metadata": {},
   "source": [
    "# How to decide which threshold to use?\n"
   ]
  },
  {
   "cell_type": "code",
   "execution_count": 32,
   "metadata": {},
   "outputs": [],
   "source": [
    "# we first use cross_val_predict to obtain all the scores \n",
    "y_scores = cross_val_predict(sgd_clf,X_train, y_train_5, cv = 3, method = \"decision_function\") # instead of returning prediciton, it return decision scores\n",
    "\n",
    "# with the scores, we use the precision_recall_curve() function to compute precision and recall for all possible threshold\n",
    "from sklearn.metrics import precision_recall_curve\n",
    "precisions, recalls, thresholds = precision_recall_curve(y_train_5, y_scores)"
   ]
  },
  {
   "cell_type": "code",
   "execution_count": 33,
   "metadata": {},
   "outputs": [],
   "source": [
    "def plot_precision_recall_threshold(precisions, recalls, thresholds): \n",
    "    plt.plot(thresholds, precisions[:-1], \"b--\", label = \"Precision\")\n",
    "    plt.plot(thresholds, recalls[:-1], \"g--\", label = \"Recall\")\n",
    "    [...]"
   ]
  },
  {
   "cell_type": "code",
   "execution_count": 34,
   "metadata": {},
   "outputs": [
    {
     "output_type": "display_data",
     "data": {
      "text/plain": "<Figure size 432x288 with 1 Axes>",
      "image/png": "[encoded data removed]"
     },
     "metadata": {
      "needs_background": "light"
     }
    }
   ],
   "source": [
    "plot_precision_recall_threshold(precisions, recalls, thresholds)\n",
    "plt.show()"
   ]
  },
  {
   "cell_type": "code",
   "execution_count": 35,
   "metadata": {},
   "outputs": [],
   "source": [
    "# the precision curve (in blue) is much bumpier than the recall curve\n",
    "# when the threshold increases, sometimes, the precision will decreases (however generally, precision increases with threshold)\n",
    "# note that when threshold increases, recall can only go down"
   ]
  },
  {
   "cell_type": "code",
   "execution_count": 36,
   "metadata": {},
   "outputs": [],
   "source": [
    "# another way to select a good precision/recall tradeoff is to plot the precision directly against recall "
   ]
  },
  {
   "cell_type": "code",
   "execution_count": 37,
   "metadata": {},
   "outputs": [
    {
     "output_type": "execute_result",
     "data": {
      "text/plain": "[<matplotlib.lines.Line2D at 0x28c8c8a51c8>]"
     },
     "metadata": {},
     "execution_count": 37
    },
    {
     "output_type": "display_data",
     "data": {
      "text/plain": "<Figure size 432x288 with 1 Axes>",
      "image/png": "[encoded data removed]"
     },
     "metadata": {
      "needs_background": "light"
     }
    }
   ],
   "source": [
    "plt.plot(recalls, precisions)\n",
    "# x axis is the recalls\n",
    "# y axis is the precisions "
   ]
  },
  {
   "cell_type": "code",
   "execution_count": 38,
   "metadata": {},
   "outputs": [
    {
     "output_type": "stream",
     "name": "stdout",
     "text": "3370.0194991439575\n"
    }
   ],
   "source": [
    "# assuming that we have decided to aim for a 90% precision\n",
    "# we have to search for the lowest threshold that will give us at least 90% precision as follows : \n",
    "\n",
    "threshold_90_precision = thresholds[np.argmax(precisions >= 0.90)]\n",
    "print(threshold_90_precision)"
   ]
  },
  {
   "cell_type": "code",
   "execution_count": 39,
   "metadata": {},
   "outputs": [],
   "source": [
    "y_train_pred_90 = (y_scores >= threshold_90_precision)"
   ]
  },
  {
   "cell_type": "code",
   "execution_count": 40,
   "metadata": {},
   "outputs": [
    {
     "output_type": "execute_result",
     "data": {
      "text/plain": "0.9000345901072293"
     },
     "metadata": {},
     "execution_count": 40
    }
   ],
   "source": [
    "precision_score(y_train_5,y_train_pred_90)\n",
    "# the threshold (searched above) produces precision rate of about 90%"
   ]
  },
  {
   "cell_type": "code",
   "execution_count": 41,
   "metadata": {},
   "outputs": [
    {
     "output_type": "execute_result",
     "data": {
      "text/plain": "0.4799852425751706"
     },
     "metadata": {},
     "execution_count": 41
    }
   ],
   "source": [
    "recall_score(y_train_5,y_train_pred_90) \n",
    "# the threshold (searched above) produces recall rate of about 47%"
   ]
  },
  {
   "cell_type": "markdown",
   "metadata": {},
   "source": [
    "# if someone says \"let's reach 99% precision\" you should replied \"at what recall rate?\""
   ]
  },
  {
   "cell_type": "markdown",
   "metadata": {},
   "source": [
    "# The ROC Curve"
   ]
  },
  {
   "cell_type": "code",
   "execution_count": 42,
   "metadata": {},
   "outputs": [],
   "source": [
    "# the receiver operating chacteristics (ROC) curve plots the TRUE POSITIVE RATE TPR (Recall) against the FALSE POSITIVE RATE\n",
    "# the false positive rate is the ratio of negative instance that are misclassified as positive. in other words FPR = FP / (FP + TN)\n",
    "# alternatively FPR = 1 - TRUE NEGATIVE RATE (TNR)\n",
    "# TNR is also called specificity \n",
    "\n",
    "from sklearn.metrics import roc_curve\n",
    "fpr, tpr, thresholds = roc_curve(y_train_5, y_scores) # this will compute the TPR and FPR for the various threshold values "
   ]
  },
  {
   "cell_type": "code",
   "execution_count": 43,
   "metadata": {},
   "outputs": [],
   "source": [
    "def plot_roc_curve(fpr, tpr, label=None) : \n",
    "    plt.plot(fpr, tpr, linewidth=2, label=label)\n",
    "    plt.plot([0,1],[0,1], \"k--\") # this creates the dashed diagional \n",
    "    [...] # this add axis labels and grid "
   ]
  },
  {
   "cell_type": "code",
   "execution_count": 44,
   "metadata": {},
   "outputs": [
    {
     "output_type": "display_data",
     "data": {
      "text/plain": "<Figure size 432x288 with 1 Axes>",
      "image/png": "[encoded data removed]"
     },
     "metadata": {
      "needs_background": "light"
     }
    }
   ],
   "source": [
    "plot_roc_curve(fpr, tpr)\n",
    "plt.show()\n",
    "# x axis is FPR \n",
    "# y axis is TPR \n",
    "\n",
    "# the dotted line represents the ROC of a purely random classifier \n",
    "# a good classifier will stay alway from that line\n",
    "\n",
    "# one way to compare classifier is to measure the area under curve (AUC)\n",
    "# a perfect classifier will a AUC of 1 and a purely random classifier will have a AUC of 0.5"
   ]
  },
  {
   "cell_type": "code",
   "execution_count": 45,
   "metadata": {},
   "outputs": [
    {
     "output_type": "execute_result",
     "data": {
      "text/plain": "0.9604938554008616"
     },
     "metadata": {},
     "execution_count": 45
    }
   ],
   "source": [
    "# to compute the AUC score \n",
    "\n",
    "from sklearn.metrics import roc_auc_score \n",
    "roc_auc_score(y_train_5,y_scores)"
   ]
  },
  {
   "cell_type": "code",
   "execution_count": 46,
   "metadata": {},
   "outputs": [],
   "source": [
    "# Precision/Recall vs ROC \n",
    "\n",
    "# Chosse the Precision/Recall curve when \n",
    "#1) the positive class is rare \n",
    "#2) when you care more about the false positive than the false negative"
   ]
  },
  {
   "cell_type": "markdown",
   "metadata": {},
   "source": [
    "# Random Forest Classifier"
   ]
  },
  {
   "cell_type": "code",
   "execution_count": 47,
   "metadata": {},
   "outputs": [],
   "source": [
    "# we will now train a random forest classifier and compare it to the SGDClassifier \n",
    "# Random Forest Classififer does not have a decision_function method\n",
    "# Instead, the Random Forest Classifier uses the predict_proba() method\n",
    "\n",
    "from sklearn.ensemble import RandomForestClassifier \n",
    "\n",
    "forest_classifer = RandomForestClassifier(random_state=42)\n",
    "y_probas_forest = cross_val_predict(forest_classifer, X_train, y_train_5, cv = 3, method = \"predict_proba\")\n",
    "# this will return an array containing a row per instance and a column per class, with each containing the probability that the given instances belong to a given class"
   ]
  },
  {
   "cell_type": "code",
   "execution_count": 48,
   "metadata": {},
   "outputs": [],
   "source": [
    "# the roc_curve() function expects labels and scores but it can also take class probabilites \n",
    "y_scores_forest = y_probas_forest[:,1] # this looks at the column index at 1 , the positive class\n",
    "fpr_forest, tpr_forest, thresholds_forest = roc_curve(y_train_5, y_scores_forest)"
   ]
  },
  {
   "cell_type": "code",
   "execution_count": 49,
   "metadata": {},
   "outputs": [
    {
     "output_type": "display_data",
     "data": {
      "text/plain": "<Figure size 432x288 with 1 Axes>",
      "image/png": "[encoded data removed]"
     },
     "metadata": {
      "needs_background": "light"
     }
    }
   ],
   "source": [
    "plt.plot(fpr, tpr, \"b:\", label=\"SGD\")\n",
    "plot_roc_curve(fpr_forest, tpr_forest, \"Random Forest\")\n",
    "plt.legend(loc= \"lower right\")\n",
    "plt.show()"
   ]
  },
  {
   "cell_type": "code",
   "execution_count": 50,
   "metadata": {},
   "outputs": [
    {
     "output_type": "execute_result",
     "data": {
      "text/plain": "0.9920527492698306"
     },
     "metadata": {},
     "execution_count": 50
    }
   ],
   "source": [
    "roc_auc_score(y_train_5,y_scores_forest)"
   ]
  },
  {
   "cell_type": "code",
   "execution_count": 51,
   "metadata": {},
   "outputs": [],
   "source": [
    "forest_prediction = cross_val_predict(forest_classifer, X_train, y_train_5, cv = 3, method = \"predict\")"
   ]
  },
  {
   "cell_type": "code",
   "execution_count": 52,
   "metadata": {},
   "outputs": [
    {
     "output_type": "execute_result",
     "data": {
      "text/plain": "0.986046511627907"
     },
     "metadata": {},
     "execution_count": 52
    }
   ],
   "source": [
    "precision_score(y_train_5, forest_prediction)"
   ]
  },
  {
   "cell_type": "code",
   "execution_count": 53,
   "metadata": {},
   "outputs": [
    {
     "output_type": "execute_result",
     "data": {
      "text/plain": "0.8212506917542889"
     },
     "metadata": {},
     "execution_count": 53
    }
   ],
   "source": [
    "recall_score(y_train_5, forest_prediction)"
   ]
  },
  {
   "cell_type": "code",
   "execution_count": null,
   "metadata": {},
   "outputs": [],
   "source": [
    "roc_auc_score()"
   ]
  },
  {
   "cell_type": "code",
   "execution_count": null,
   "metadata": {},
   "outputs": [],
   "source": []
  },
  {
   "cell_type": "code",
   "execution_count": null,
   "metadata": {},
   "outputs": [],
   "source": []
  },
  {
   "cell_type": "code",
   "execution_count": null,
   "metadata": {},
   "outputs": [],
   "source": []
  }
 ],
 "metadata": {
  "file_extension": ".py",
  "kernelspec": {
   "display_name": "Python 3.7.4 64-bit ('base': conda)",
   "language": "python",
   "name": "python37464bitbaseconda6db2893f0e1b4b6ea66d23044bec9473"
  },
  "language_info": {
   "codemirror_mode": {
    "name": "ipython",
    "version": 3
   },
   "file_extension": ".py",
   "mimetype": "text/x-python",
   "name": "python",
   "nbconvert_exporter": "python",
   "pygments_lexer": "ipython3",
   "version": "3.7.4-final"
  },
  "mimetype": "text/x-python",
  "name": "python",
  "npconvert_exporter": "python",
  "pygments_lexer": "ipython3",
  "version": 3
 },
 "nbformat": 4,
 "nbformat_minor": 2
}