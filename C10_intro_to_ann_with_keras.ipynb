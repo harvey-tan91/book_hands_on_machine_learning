{
 "metadata": {
  "language_info": {
   "codemirror_mode": {
    "name": "ipython",
    "version": 3
   },
   "file_extension": ".py",
   "mimetype": "text/x-python",
   "name": "python",
   "nbconvert_exporter": "python",
   "pygments_lexer": "ipython3",
   "version": "3.8.5-final"
  },
  "orig_nbformat": 2,
  "kernelspec": {
   "name": "python3",
   "display_name": "Python 3.8.5 64-bit ('tf': conda)",
   "metadata": {
    "interpreter": {
     "hash": "1d873b4a3efa56d3780f1222c5f0f3ef3100af1a62151920ce81b10186f0cf5a"
    }
   }
  }
 },
 "nbformat": 4,
 "nbformat_minor": 2,
 "cells": [
  {
   "source": [
    "# Perceptron\n",
    "* Contain a single layer of TLU (threshold logic unit), also known as linear threshold unit\n",
    "* In other words, it is a single-layer neural network\n",
    "* Each TLU is connected to all the inputs\n",
    "* Each connection is assoicated with a weight \n",
    "* TLU compute the weighted sum of inputs and applies a step function to that sum and outputs the result\n",
    "* When all the neurons in a layer are connected to every neuron in the previous layer (input neurons), the layer is called a fully connected layer or a dense layer\n",
    "* The decision boundary of each output neuron is linear so Perceptron are incapable of learning complex patterns\n",
    "* However, if the instances are LINEARLY SEPARABBLE, the Perceptron can converge to a solution\n",
    "- - -\n",
    "## How Perceptron Make Predictions\n",
    "* Predictions are made purely on hard threshold\n",
    "* Perceptrons are trained by taking into account the error made by the network when it makes predictions\n",
    "* This reinenforce connections that help reduces the error\n",
    "* Perceptron are fed one training instances at a time and for each intstance, it makes a prediction  \n",
    "* Perceptron do not output class probabilities\n"
   ],
   "cell_type": "markdown",
   "metadata": {}
  },
  {
   "cell_type": "code",
   "execution_count": 1,
   "metadata": {},
   "outputs": [],
   "source": [
    "import numpy as np\n",
    "import sklearn.linear_model as lm\n",
    "import sklearn.datasets as dataset\n",
    "import sklearn.model_selection as ms"
   ]
  },
  {
   "cell_type": "code",
   "execution_count": 2,
   "metadata": {},
   "outputs": [
    {
     "output_type": "stream",
     "name": "stdout",
     "text": [
      "100.0\n100.0\n"
     ]
    }
   ],
   "source": [
    "iris = dataset.load_iris()\n",
    "\n",
    "X = iris.data[:, (2,3)] # petal lenght and width\n",
    "y = (iris.target == 0).astype(np.int) # binary classification\n",
    "\n",
    "X_train, X_test, y_train, y_test = ms.train_test_split(X, y, train_size=100, random_state=72)\n",
    "\n",
    "per_clf = lm.Perceptron(random_state=42)\n",
    "per_clf.fit(X_train, y_train)\n",
    "\n",
    "print(per_clf.score(X_train, y_train) * 100)\n",
    "print(per_clf.score(X_test, y_test) * 100)"
   ]
  },
  {
   "cell_type": "code",
   "execution_count": 3,
   "metadata": {},
   "outputs": [
    {
     "output_type": "stream",
     "name": "stdout",
     "text": [
      "81.0\n78.0\n"
     ]
    }
   ],
   "source": [
    "# all classes and features\n",
    "X = iris.data\n",
    "y = iris.target\n",
    "\n",
    "X_train, X_test, y_train, y_test = ms.train_test_split(X, y, train_size=100, random_state=72)\n",
    "\n",
    "per_clf = lm.Perceptron(random_state=42)\n",
    "per_clf.fit(X_train, y_train)\n",
    "\n",
    "print(per_clf.score(X_train, y_train) * 100)\n",
    "print(per_clf.score(X_test, y_test) * 100)"
   ]
  },
  {
   "cell_type": "code",
   "execution_count": null,
   "metadata": {},
   "outputs": [],
   "source": []
  }
 ]
}