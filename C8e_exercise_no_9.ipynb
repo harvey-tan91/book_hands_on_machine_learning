{
 "metadata": {
  "language_info": {
   "codemirror_mode": {
    "name": "ipython",
    "version": 3
   },
   "file_extension": ".py",
   "mimetype": "text/x-python",
   "name": "python",
   "nbconvert_exporter": "python",
   "pygments_lexer": "ipython3",
   "version": "3.8.3-final"
  },
  "orig_nbformat": 2,
  "kernelspec": {
   "name": "python37464bitbaseconda6db2893f0e1b4b6ea66d23044bec9473",
   "display_name": "Python 3.7.4 64-bit ('base': conda)",
   "language": "python"
  }
 },
 "nbformat": 4,
 "nbformat_minor": 2,
 "cells": [
  {
   "cell_type": "code",
   "execution_count": 1,
   "metadata": {},
   "outputs": [],
   "source": [
    "import sklearn.datasets as dataset\n",
    "import sklearn.ensemble as ensemble\n",
    "import sklearn.model_selection as ms\n",
    "import sklearn.metrics as m\n",
    "import pandas as pd\n",
    "import numpy as np\n",
    "import sklearn.decomposition as decom\n",
    "import sklearn.linear_model as lm\n",
    "from timeit import default_timer as timer "
   ]
  },
  {
   "cell_type": "code",
   "execution_count": 2,
   "metadata": {},
   "outputs": [],
   "source": [
    "data = dataset.fetch_openml('mnist_784', version=1)\n",
    "\n",
    "X = data.data\n",
    "y = data.target\n",
    "\n",
    "X_train, X_test = X[:60000], X[60000:]\n",
    "y_train, y_test = y[:60000], y[60000:]"
   ]
  },
  {
   "cell_type": "code",
   "execution_count": 3,
   "metadata": {},
   "outputs": [
    {
     "output_type": "stream",
     "name": "stdout",
     "text": [
      "(60000, 784)\n47040000\n"
     ]
    }
   ],
   "source": [
    "print(X_train.shape)\n",
    "print(X_train.size)"
   ]
  },
  {
   "source": [
    "# Base Model - Random Forest with Full Training Data"
   ],
   "cell_type": "markdown",
   "metadata": {}
  },
  {
   "cell_type": "code",
   "execution_count": 4,
   "metadata": {},
   "outputs": [
    {
     "output_type": "stream",
     "name": "stdout",
     "text": [
      "41.27652709999984\n"
     ]
    }
   ],
   "source": [
    "ran_clf = ensemble.RandomForestClassifier(random_state=42)\n",
    "\n",
    "start = timer() # start of timer\n",
    "\n",
    "ran_clf.fit(X_train, y_train) # training the model\n",
    "\n",
    "end = timer() # end of timer \n",
    "\n",
    "print(end-start)"
   ]
  },
  {
   "cell_type": "code",
   "execution_count": 5,
   "metadata": {},
   "outputs": [
    {
     "output_type": "execute_result",
     "data": {
      "text/plain": [
       "1.0"
      ]
     },
     "metadata": {},
     "execution_count": 5
    }
   ],
   "source": [
    "# Score on training data\n",
    "ran_clf.score(X_train, y_train)"
   ]
  },
  {
   "cell_type": "code",
   "execution_count": 6,
   "metadata": {},
   "outputs": [
    {
     "output_type": "execute_result",
     "data": {
      "text/plain": [
       "0.9705"
      ]
     },
     "metadata": {},
     "execution_count": 6
    }
   ],
   "source": [
    "# Score on testing data\n",
    "ran_clf.score(X_test, y_test)"
   ]
  },
  {
   "source": [
    "# Decompositing Data"
   ],
   "cell_type": "markdown",
   "metadata": {}
  },
  {
   "cell_type": "code",
   "execution_count": 7,
   "metadata": {},
   "outputs": [],
   "source": [
    "pca = decom.PCA(n_components=0.95) # retain 95% of the variance in the data\n",
    "X_reduced = pca.fit_transform(X)\n",
    "\n",
    "X_train_reduced, X_test_reduced = X_reduced[:60000], X_reduced[60000:]"
   ]
  },
  {
   "source": [
    "# Performance of Random Forest Model on Reduced Feature Set"
   ],
   "cell_type": "markdown",
   "metadata": {}
  },
  {
   "cell_type": "code",
   "execution_count": 8,
   "metadata": {},
   "outputs": [
    {
     "output_type": "stream",
     "name": "stdout",
     "text": [
      "95.91927740000006\n"
     ]
    }
   ],
   "source": [
    "new_ran_clf = ensemble.RandomForestClassifier(random_state=42)\n",
    "\n",
    "start = timer() # start of timer\n",
    "\n",
    "new_ran_clf.fit(X_train_reduced, y_train) # training the model\n",
    "\n",
    "end = timer() # end of timer \n",
    "\n",
    "print(end-start)"
   ]
  },
  {
   "cell_type": "code",
   "execution_count": 9,
   "metadata": {},
   "outputs": [
    {
     "output_type": "execute_result",
     "data": {
      "text/plain": [
       "1.0"
      ]
     },
     "metadata": {},
     "execution_count": 9
    }
   ],
   "source": [
    "# Performance on training dataset\n",
    "new_ran_clf.score(X_train_reduced, y_train)"
   ]
  },
  {
   "cell_type": "code",
   "execution_count": 10,
   "metadata": {},
   "outputs": [
    {
     "output_type": "execute_result",
     "data": {
      "text/plain": [
       "0.9498"
      ]
     },
     "metadata": {},
     "execution_count": 10
    }
   ],
   "source": [
    "# Performance on testing dataset\n",
    "new_ran_clf.score(X_test_reduced, y_test)"
   ]
  },
  {
   "source": [
    "# Logistic Regression on Full Training Data"
   ],
   "cell_type": "markdown",
   "metadata": {}
  },
  {
   "cell_type": "code",
   "execution_count": 11,
   "metadata": {},
   "outputs": [
    {
     "output_type": "stream",
     "name": "stdout",
     "text": [
      "9.848613699999987\n"
     ]
    }
   ],
   "source": [
    "log_reg = lm.LogisticRegression(multi_class=\"multinomial\", solver=\"lbfgs\", C=10, random_state=42)\n",
    "\n",
    "start = timer() # start of timer\n",
    "\n",
    "log_reg.fit(X_train, y_train) # training the model\n",
    "\n",
    "end = timer() # end of timer \n",
    "\n",
    "print(end-start)"
   ]
  },
  {
   "cell_type": "code",
   "execution_count": 12,
   "metadata": {},
   "outputs": [
    {
     "output_type": "stream",
     "name": "stdout",
     "text": [
      "0.9341166666666667\n",
      "0.9243\n"
     ]
    }
   ],
   "source": [
    "print(log_reg.score(X_train, y_train))\n",
    "print(log_reg.score(X_test, y_test))"
   ]
  },
  {
   "source": [
    "# Performance of Logistic Regression on Reduced Feature Set"
   ],
   "cell_type": "markdown",
   "metadata": {}
  },
  {
   "cell_type": "code",
   "execution_count": 13,
   "metadata": {},
   "outputs": [
    {
     "output_type": "stream",
     "name": "stdout",
     "text": [
      "4.912646499999937\n"
     ]
    }
   ],
   "source": [
    "new_log_reg = lm.LogisticRegression(multi_class=\"multinomial\", solver=\"lbfgs\", C=10, random_state=42)\n",
    "\n",
    "start = timer() # start of timer\n",
    "\n",
    "new_log_reg.fit(X_train_reduced, y_train) # training the model\n",
    "\n",
    "end = timer() # end of timer \n",
    "\n",
    "print(end-start)"
   ]
  },
  {
   "cell_type": "code",
   "execution_count": 14,
   "metadata": {},
   "outputs": [
    {
     "output_type": "stream",
     "name": "stdout",
     "text": [
      "0.9217666666666666\n0.92\n"
     ]
    }
   ],
   "source": [
    "print(new_log_reg.score(X_train_reduced, y_train))\n",
    "print(new_log_reg.score(X_test_reduced, y_test))"
   ]
  }
 ]
}