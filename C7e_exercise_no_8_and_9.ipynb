{
 "metadata": {
  "language_info": {
   "codemirror_mode": {
    "name": "ipython",
    "version": 3
   },
   "file_extension": ".py",
   "mimetype": "text/x-python",
   "name": "python",
   "nbconvert_exporter": "python",
   "pygments_lexer": "ipython3",
   "version": "3.8.3-final"
  },
  "orig_nbformat": 2,
  "kernelspec": {
   "name": "python37464bitbaseconda6db2893f0e1b4b6ea66d23044bec9473",
   "display_name": "Python 3.7.4 64-bit ('base': conda)",
   "language": "python"
  }
 },
 "nbformat": 4,
 "nbformat_minor": 2,
 "cells": [
  {
   "source": [
    "# Mnist Prediction - Ensemble Models"
   ],
   "cell_type": "markdown",
   "metadata": {}
  },
  {
   "cell_type": "code",
   "execution_count": 24,
   "metadata": {},
   "outputs": [],
   "source": [
    "import sklearn.datasets as dataset\n",
    "import sklearn.svm as svm\n",
    "import sklearn.ensemble as ensemble\n",
    "import sklearn.model_selection as ms\n",
    "import sklearn.metrics as m\n",
    "import sklearn.neural_network as nn\n",
    "import numpy as np"
   ]
  },
  {
   "cell_type": "code",
   "execution_count": 2,
   "metadata": {},
   "outputs": [],
   "source": [
    "mnist = dataset.fetch_openml('mnist_784', version=1)"
   ]
  },
  {
   "cell_type": "code",
   "execution_count": 3,
   "metadata": {},
   "outputs": [],
   "source": [
    "X = mnist.data\n",
    "y = mnist.target\n",
    "\n",
    "X_train_val, X_test, y_train_val, y_test = ms.train_test_split(X, y, test_size=10000, random_state=42)\n",
    "X_train, X_validation, y_train, y_validation = ms.train_test_split(X_train_val, y_train_val, test_size=10000, random_state=42)"
   ]
  },
  {
   "cell_type": "code",
   "execution_count": 4,
   "metadata": {},
   "outputs": [],
   "source": [
    "rf_clf = ensemble.RandomForestClassifier(random_state=42)\n",
    "ext_clf = ensemble.ExtraTreesClassifier(random_state=42)\n",
    "svm_clf = svm.LinearSVC(random_state=42)\n",
    "mlp_clf = nn.MLPClassifier(random_state=42)"
   ]
  },
  {
   "cell_type": "code",
   "execution_count": 5,
   "metadata": {},
   "outputs": [
    {
     "output_type": "execute_result",
     "data": {
      "text/plain": [
       "MLPClassifier(random_state=42)"
      ]
     },
     "metadata": {},
     "execution_count": 5
    }
   ],
   "source": [
    "# FITTING THE MODEL\n",
    "rf_clf.fit(X_train, y_train)\n",
    "ext_clf.fit(X_train, y_train)\n",
    "svm_clf.fit(X_train, y_train)\n",
    "mlp_clf.fit(X_train, y_train)"
   ]
  },
  {
   "cell_type": "code",
   "execution_count": 16,
   "metadata": {},
   "outputs": [
    {
     "output_type": "stream",
     "name": "stdout",
     "text": [
      "Individual Model Accuracy on Validation DataSet\n",
      "RandomForestClassifier : 96.92\n",
      "ExtraTreesClassifier : 97.15\n",
      "LinearSVC : 86.95\n",
      "MLPClassifier : 96.0\n"
     ]
    }
   ],
   "source": [
    "estimators = [rf_clf, ext_clf, svm_clf, mlp_clf]\n",
    "\n",
    "print('Individual Model Accuracy on Validation DataSet')\n",
    "for model in estimators:\n",
    "    print(f'{model.__class__.__name__} : {model.score(X_validation, y_validation) * 100}')"
   ]
  },
  {
   "cell_type": "code",
   "execution_count": 7,
   "metadata": {},
   "outputs": [
    {
     "output_type": "execute_result",
     "data": {
      "text/plain": [
       "VotingClassifier(estimators=[('ran_clf',\n",
       "                              RandomForestClassifier(random_state=42)),\n",
       "                             ('ext_clf', ExtraTreesClassifier(random_state=42)),\n",
       "                             ('svm', LinearSVC(random_state=42)),\n",
       "                             ('mlp_clf', MLPClassifier(random_state=42))])"
      ]
     },
     "metadata": {},
     "execution_count": 7
    }
   ],
   "source": [
    "# ENSEMBLE \n",
    "\n",
    "voting_classifier = ensemble.VotingClassifier(estimators=[\n",
    "                                                ('ran_clf', ensemble.RandomForestClassifier(random_state=42)),\n",
    "                                                ('ext_clf', ensemble.ExtraTreesClassifier(random_state=42)),\n",
    "                                                ('svm', svm.LinearSVC(random_state=42)), \n",
    "                                                ('mlp_clf', nn.MLPClassifier(random_state=42))\n",
    "                                                ], voting='hard')\n",
    "voting_classifier.fit(X_train, y_train)"
   ]
  },
  {
   "cell_type": "code",
   "execution_count": 14,
   "metadata": {},
   "outputs": [
    {
     "output_type": "stream",
     "name": "stdout",
     "text": [
      "Voting Classifier Model Accuracy on Validation DataSet\n"
     ]
    },
    {
     "output_type": "execute_result",
     "data": {
      "text/plain": [
       "97.09"
      ]
     },
     "metadata": {},
     "execution_count": 14
    }
   ],
   "source": [
    "print('Voting Classifier Model Accuracy on Validation DataSet')\n",
    "voting_classifier.score(X_validation, y_validation) * 100"
   ]
  },
  {
   "cell_type": "code",
   "execution_count": 15,
   "metadata": {},
   "outputs": [
    {
     "output_type": "stream",
     "name": "stdout",
     "text": [
      "Voting Classifier Model Accuracy on Testing DataSet\n"
     ]
    },
    {
     "output_type": "execute_result",
     "data": {
      "text/plain": [
       "96.82"
      ]
     },
     "metadata": {},
     "execution_count": 15
    }
   ],
   "source": [
    "print('Voting Classifier Model Accuracy on Testing DataSet')\n",
    "voting_classifier.score(X_test, y_test) * 100"
   ]
  },
  {
   "cell_type": "code",
   "execution_count": 18,
   "metadata": {},
   "outputs": [
    {
     "output_type": "stream",
     "name": "stdout",
     "text": [
      "Individual Model Accuracy on Testing DataSet\n",
      "RandomForestClassifier : 96.45\n",
      "ExtraTreesClassifier : 96.91\n",
      "LinearSVC : 87.07000000000001\n",
      "MLPClassifier : 96.14\n"
     ]
    }
   ],
   "source": [
    "print('Individual Model Accuracy on Testing DataSet')\n",
    "for model in estimators:\n",
    "    print(f'{model.__class__.__name__} : {model.score(X_test, y_test) * 100}')"
   ]
  },
  {
   "cell_type": "code",
   "execution_count": 19,
   "metadata": {},
   "outputs": [
    {
     "output_type": "execute_result",
     "data": {
      "text/plain": [
       "VotingClassifier(estimators=[('ran_clf',\n",
       "                              RandomForestClassifier(random_state=42)),\n",
       "                             ('ext_clf', ExtraTreesClassifier(random_state=42)),\n",
       "                             ('mlp_clf', MLPClassifier(random_state=42))])"
      ]
     },
     "metadata": {},
     "execution_count": 19
    }
   ],
   "source": [
    "# Lets remove SVM from the voting classifier model and re-train the whole model \n",
    "# ENSEMBLE \n",
    "\n",
    "voting_classifier_new = ensemble.VotingClassifier(estimators=[\n",
    "                                                ('ran_clf', ensemble.RandomForestClassifier(random_state=42)),\n",
    "                                                ('ext_clf', ensemble.ExtraTreesClassifier(random_state=42)),\n",
    "                                                ('mlp_clf', nn.MLPClassifier(random_state=42))\n",
    "                                                ], voting='hard')\n",
    "voting_classifier_new.fit(X_train, y_train)"
   ]
  },
  {
   "cell_type": "code",
   "execution_count": 22,
   "metadata": {},
   "outputs": [
    {
     "output_type": "stream",
     "name": "stdout",
     "text": [
      "New Voting Classiifer Model Accuracy on Validation Dataset\n"
     ]
    },
    {
     "output_type": "execute_result",
     "data": {
      "text/plain": [
       "0.9731"
      ]
     },
     "metadata": {},
     "execution_count": 22
    }
   ],
   "source": [
    "print('New Voting Classiifer Model Accuracy on Validation Dataset')\n",
    "voting_classifier_new.score(X_validation, y_validation)"
   ]
  },
  {
   "cell_type": "code",
   "execution_count": 23,
   "metadata": {},
   "outputs": [
    {
     "output_type": "stream",
     "name": "stdout",
     "text": [
      "New Voting Classiifer Model Accuracy on Testing Dataset\n"
     ]
    },
    {
     "output_type": "execute_result",
     "data": {
      "text/plain": [
       "0.9713"
      ]
     },
     "metadata": {},
     "execution_count": 23
    }
   ],
   "source": [
    "print('New Voting Classiifer Model Accuracy on Testing Dataset')\n",
    "voting_classifier_new.score(X_test, y_test)"
   ]
  },
  {
   "source": [
    "# Stacking Ensemble"
   ],
   "cell_type": "markdown",
   "metadata": {}
  },
  {
   "cell_type": "code",
   "execution_count": 44,
   "metadata": {},
   "outputs": [
    {
     "output_type": "stream",
     "name": "stdout",
     "text": [
      "(10000, 4)\n[[-6.4579905e+34  7.0905702e-43  6.0616614e-31  7.1045832e-43]\n [ 9.8989125e-41  0.0000000e+00            nan            nan]\n [ 3.1949605e-43  0.0000000e+00  0.0000000e+00  0.0000000e+00]\n ...\n [ 1.4012985e-45  0.0000000e+00  1.4012985e-45  0.0000000e+00]\n [ 1.4012985e-45  0.0000000e+00  1.4012985e-45  0.0000000e+00]\n [ 1.4012985e-45  0.0000000e+00  1.4012985e-45  0.0000000e+00]]\n"
     ]
    }
   ],
   "source": [
    "row_lenght_X_validation = len(X_validation)\n",
    "col_lenght = len(estimators)\n",
    "\n",
    "X_validation_predictions = np.empty((row_lenght_X_validation, col_lenght), dtype=np.float32)\n",
    "print(X_validation_predictions.shape)\n",
    "print(X_validation_predictions)"
   ]
  },
  {
   "cell_type": "code",
   "execution_count": 46,
   "metadata": {},
   "outputs": [
    {
     "output_type": "execute_result",
     "data": {
      "text/plain": [
       "[RandomForestClassifier(random_state=42),\n",
       " ExtraTreesClassifier(random_state=42),\n",
       " LinearSVC(random_state=42),\n",
       " MLPClassifier(random_state=42)]"
      ]
     },
     "metadata": {},
     "execution_count": 46
    }
   ],
   "source": [
    "estimators"
   ]
  },
  {
   "cell_type": "code",
   "execution_count": 64,
   "metadata": {},
   "outputs": [],
   "source": [
    "for index, estimator in enumerate(estimators):\n",
    "    X_validation_predictions[:, index] = estimator.predict(X_validation) # storing the prediction of the validation dataset"
   ]
  },
  {
   "cell_type": "code",
   "execution_count": 65,
   "metadata": {},
   "outputs": [
    {
     "output_type": "execute_result",
     "data": {
      "text/plain": [
       "array([[5., 5., 5., 5.],\n",
       "       [8., 8., 8., 8.],\n",
       "       [2., 2., 2., 2.],\n",
       "       ...,\n",
       "       [7., 7., 7., 7.],\n",
       "       [6., 6., 6., 6.],\n",
       "       [7., 7., 7., 7.]], dtype=float32)"
      ]
     },
     "metadata": {},
     "execution_count": 65
    }
   ],
   "source": [
    "X_validation_predictions"
   ]
  },
  {
   "cell_type": "code",
   "execution_count": 66,
   "metadata": {},
   "outputs": [
    {
     "output_type": "execute_result",
     "data": {
      "text/plain": [
       "RandomForestClassifier(n_estimators=200, oob_score=True, random_state=42)"
      ]
     },
     "metadata": {},
     "execution_count": 66
    }
   ],
   "source": [
    "rnd_forest_blender = ensemble.RandomForestClassifier(random_state=42, n_estimators=200, oob_score=True)\n",
    "rnd_forest_blender.fit(X_validation_predictions, y_validation)"
   ]
  },
  {
   "cell_type": "code",
   "execution_count": 67,
   "metadata": {},
   "outputs": [
    {
     "output_type": "execute_result",
     "data": {
      "text/plain": [
       "0.9689"
      ]
     },
     "metadata": {},
     "execution_count": 67
    }
   ],
   "source": [
    "rnd_forest_blender.oob_score_"
   ]
  },
  {
   "cell_type": "code",
   "execution_count": 68,
   "metadata": {},
   "outputs": [],
   "source": [
    "lenght_X_test = len(X_test)\n",
    "\n",
    "X_test_prediction = np.empty((lenght_X_test, col_lenght), dtype=np.float32)\n",
    "\n",
    "for index, estimator in enumerate(estimators):\n",
    "    X_test_prediction[:, index] = estimator.predict(X_test)"
   ]
  },
  {
   "cell_type": "code",
   "execution_count": 69,
   "metadata": {},
   "outputs": [],
   "source": [
    "y_prediction = rnd_forest_blender.predict(X_test_prediction)"
   ]
  },
  {
   "cell_type": "code",
   "execution_count": 71,
   "metadata": {},
   "outputs": [
    {
     "output_type": "execute_result",
     "data": {
      "text/plain": [
       "96.76"
      ]
     },
     "metadata": {},
     "execution_count": 71
    }
   ],
   "source": [
    "m.accuracy_score(y_test, y_prediction) * 100"
   ]
  },
  {
   "cell_type": "code",
   "execution_count": null,
   "metadata": {},
   "outputs": [],
   "source": []
  },
  {
   "cell_type": "code",
   "execution_count": null,
   "metadata": {},
   "outputs": [],
   "source": []
  },
  {
   "cell_type": "code",
   "execution_count": null,
   "metadata": {},
   "outputs": [],
   "source": []
  },
  {
   "cell_type": "code",
   "execution_count": null,
   "metadata": {},
   "outputs": [],
   "source": []
  }
 ]
}